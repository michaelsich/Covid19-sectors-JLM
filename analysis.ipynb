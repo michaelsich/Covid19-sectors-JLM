{
    "cells": [
        {
            "cell_type": "code",
            "execution_count": 1,
            "source": [
                "from preprocessing import preprocess\n",
                "import pandas as pd\n",
                "import numpy as np\n",
                "import matplotlib.pyplot as plt\n",
                "from sklearn.model_selection import train_test_split\n",
                "from sklearn.decomposition import PCA"
            ],
            "outputs": [],
            "metadata": {}
        },
        {
            "cell_type": "code",
            "execution_count": 2,
            "source": [
                "df = pd.read_csv('./res/jlm_df.csv')\n",
                "df = preprocess(df)"
            ],
            "outputs": [],
            "metadata": {}
        },
        {
            "cell_type": "code",
            "execution_count": 30,
            "source": [
                "# df_time = df.pivot(index='date', columns='agas_code', values=['new_cases', 'new_deaths'])\n",
                "df_time = df.pivot(index='date', columns='agas_code', values='new_cases')\n",
                "df_time.index = pd.to_datetime(df_time.index)\n",
                "\n",
                "dft = df\n",
                "dft.index = dft['date']\n",
                "dft.index = pd.to_datetime(dft.index)\n"
            ],
            "outputs": [],
            "metadata": {}
        },
        {
            "cell_type": "code",
            "execution_count": null,
            "source": [],
            "outputs": [],
            "metadata": {}
        }
    ],
    "metadata": {
        "orig_nbformat": 4,
        "language_info": {
            "name": "python",
            "version": "3.7.10",
            "mimetype": "text/x-python",
            "codemirror_mode": {
                "name": "ipython",
                "version": 3
            },
            "pygments_lexer": "ipython3",
            "nbconvert_exporter": "python",
            "file_extension": ".py"
        },
        "kernelspec": {
            "name": "python3",
            "display_name": "Python 3.7.10 64-bit ('jlm_sector_covid_env': conda)"
        },
        "interpreter": {
            "hash": "732d831ca6ad3a3429440d47adf51584154cea5996ade90fcd2c1041847a664f"
        }
    },
    "nbformat": 4,
    "nbformat_minor": 2
}