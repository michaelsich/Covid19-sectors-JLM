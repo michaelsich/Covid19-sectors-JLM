{
    "cells": [
        {
            "cell_type": "code",
            "execution_count": 1,
            "source": [
                "import pandas as pd"
            ],
            "outputs": [],
            "metadata": {}
        },
        {
            "cell_type": "code",
            "execution_count": 2,
            "source": [
                "def cols_to_int(df: pd.DataFrame):\n",
                "    columns = [\n",
                "        'accumulated_cases',\n",
                "        'accumulated_recoveries',\n",
                "        'accumulated_deaths',\n",
                "        'accumulated_hospitalized',\n",
                "        'accumulated_vaccination_first_dose',\n",
                "        'accumulated_vaccination_second_dose',\n",
                "        'accumulated_diagnostic_tests'\n",
                "    ]\n",
                "    for h in columns:\n",
                "        df[h]= df[df].astype('int')"
            ],
            "outputs": [],
            "metadata": {}
        },
        {
            "cell_type": "code",
            "execution_count": 3,
            "source": [
                "def bin_to_int(df: pd.DataFrame):\n",
                "    df.replace({False: 0, True: 1}, inplace=True)\n",
                "    # TODO: delete this\n",
                "    # columns = [\n",
                "    #     'new_cases_on_date',\n",
                "    #     'new_recoveries_on_date',\n",
                "    #     'new_hospitalized_on_date',\n",
                "    #     'new_deaths_on_date',\n",
                "    #     'new_diagnostic_tests_on_date',\n",
                "    #     'new_vacc_first_dose_on_date',\n",
                "    #     'new_vacc_second_dose_on_date'\n",
                "    # ]\n",
                "    # for h in columns:\n",
                "    #     df[h]= df[df].astype('int')"
            ],
            "outputs": [],
            "metadata": {}
        },
        {
            "cell_type": "code",
            "execution_count": 4,
            "source": [
                "def drop_cols(df: pd.DataFrame):\n",
                "    columns = [\n",
                "        'town',\n",
                "        # 'new_cases_on_date',\n",
                "        # 'new_recoveries_on_date',\n",
                "        # 'new_hospitalized_on_date',\n",
                "        # 'new_deaths_on_date',\n",
                "        # 'new_diagnostic_tests_on_date',\n",
                "        'new_vacc_first_dose_on_date',\n",
                "        'new_vacc_second_dose_on_date',\n",
                "        'accumulated_vaccination_first_dose'\n",
                "        'accumulated_vaccination_second_dose'\n",
                "    ]"
            ],
            "outputs": [],
            "metadata": {}
        },
        {
            "cell_type": "code",
            "execution_count": 5,
            "source": [
                "def calc_changes(df: pd.DataFrame):\n",
                "    df = df.sort_values(by=[\"agas_code\",\"date\"])\n",
                "    df = df.assign(new_cases = ( df['accumulated_cases'] - df['accumulated_recoveries'] - df['accumulated_deaths']) )\n",
                "    df[\"new_cases_percent\"] = df.groupby(\"agas_code\")[\"new_cases\"].pct_change()\n",
                "\n",
                "    df[\"new_deaths\"] = df.groupby(\"agas_code\")[\"accumulated_deaths\"].diff()\n",
                "    df[\"new_recoveries\"] = df.groupby(\"agas_code\")[\"accumulated_recoveries\"].diff()\n",
                "\n",
                "    # some na's might have been created\n",
                "    df[\"new_deaths\"] =df[\"new_deaths\"].fillna(0)\n",
                "    df[\"new_recoveries\"] =df[\"new_recoveries\"].fillna(0)\n",
                "    df[\"new_cases_percent\"] = df[\"new_cases_percent\"].fillna(0)"
            ],
            "outputs": [],
            "metadata": {}
        },
        {
            "cell_type": "code",
            "execution_count": 6,
            "source": [
                "def preprocess(df: pd.DataFrame) -> pd.DataFrame:\n",
                "    cols_to_int(df)\n",
                "    bin_to_int(df)\n",
                "    calc_changes(df)\n",
                "    drop_cols(df)\n",
                "    return df"
            ],
            "outputs": [],
            "metadata": {}
        },
        {
            "cell_type": "code",
            "execution_count": 8,
            "source": [
                "df = pd.read_csv('./res/jlm_df.csv')\n",
                "preprocess(df)"
            ],
            "outputs": [
                {
                    "output_type": "error",
                    "ename": "ValueError",
                    "evalue": "Boolean array expected for the condition, not int64",
                    "traceback": [
                        "\u001b[0;31m---------------------------------------------------------------------------\u001b[0m",
                        "\u001b[0;31mValueError\u001b[0m                                Traceback (most recent call last)",
                        "\u001b[0;32m<ipython-input-8-35a59f37f2a2>\u001b[0m in \u001b[0;36m<module>\u001b[0;34m\u001b[0m\n\u001b[1;32m      1\u001b[0m \u001b[0mdf\u001b[0m \u001b[0;34m=\u001b[0m \u001b[0mpd\u001b[0m\u001b[0;34m.\u001b[0m\u001b[0mread_csv\u001b[0m\u001b[0;34m(\u001b[0m\u001b[0;34m'./res/jlm_df.csv'\u001b[0m\u001b[0;34m)\u001b[0m\u001b[0;34m\u001b[0m\u001b[0;34m\u001b[0m\u001b[0m\n\u001b[0;32m----> 2\u001b[0;31m \u001b[0mpreprocess\u001b[0m\u001b[0;34m(\u001b[0m\u001b[0mdf\u001b[0m\u001b[0;34m)\u001b[0m\u001b[0;34m\u001b[0m\u001b[0;34m\u001b[0m\u001b[0m\n\u001b[0m",
                        "\u001b[0;32m<ipython-input-6-1506546bed99>\u001b[0m in \u001b[0;36mpreprocess\u001b[0;34m(df)\u001b[0m\n\u001b[1;32m      1\u001b[0m \u001b[0;32mdef\u001b[0m \u001b[0mpreprocess\u001b[0m\u001b[0;34m(\u001b[0m\u001b[0mdf\u001b[0m\u001b[0;34m:\u001b[0m \u001b[0mpd\u001b[0m\u001b[0;34m.\u001b[0m\u001b[0mDataFrame\u001b[0m\u001b[0;34m)\u001b[0m \u001b[0;34m->\u001b[0m \u001b[0mpd\u001b[0m\u001b[0;34m.\u001b[0m\u001b[0mDataFrame\u001b[0m\u001b[0;34m:\u001b[0m\u001b[0;34m\u001b[0m\u001b[0;34m\u001b[0m\u001b[0m\n\u001b[0;32m----> 2\u001b[0;31m     \u001b[0mcols_to_int\u001b[0m\u001b[0;34m(\u001b[0m\u001b[0mdf\u001b[0m\u001b[0;34m)\u001b[0m\u001b[0;34m\u001b[0m\u001b[0;34m\u001b[0m\u001b[0m\n\u001b[0m\u001b[1;32m      3\u001b[0m     \u001b[0mbin_to_int\u001b[0m\u001b[0;34m(\u001b[0m\u001b[0mdf\u001b[0m\u001b[0;34m)\u001b[0m\u001b[0;34m\u001b[0m\u001b[0;34m\u001b[0m\u001b[0m\n\u001b[1;32m      4\u001b[0m     \u001b[0mcalc_changes\u001b[0m\u001b[0;34m(\u001b[0m\u001b[0mdf\u001b[0m\u001b[0;34m)\u001b[0m\u001b[0;34m\u001b[0m\u001b[0;34m\u001b[0m\u001b[0m\n\u001b[1;32m      5\u001b[0m     \u001b[0mdrop_cols\u001b[0m\u001b[0;34m(\u001b[0m\u001b[0mdf\u001b[0m\u001b[0;34m)\u001b[0m\u001b[0;34m\u001b[0m\u001b[0;34m\u001b[0m\u001b[0m\n",
                        "\u001b[0;32m<ipython-input-2-378db16a56f7>\u001b[0m in \u001b[0;36mcols_to_int\u001b[0;34m(df)\u001b[0m\n\u001b[1;32m     10\u001b[0m     ]\n\u001b[1;32m     11\u001b[0m     \u001b[0;32mfor\u001b[0m \u001b[0mh\u001b[0m \u001b[0;32min\u001b[0m \u001b[0mcolumns\u001b[0m\u001b[0;34m:\u001b[0m\u001b[0;34m\u001b[0m\u001b[0;34m\u001b[0m\u001b[0m\n\u001b[0;32m---> 12\u001b[0;31m         \u001b[0mdf\u001b[0m\u001b[0;34m[\u001b[0m\u001b[0mh\u001b[0m\u001b[0;34m]\u001b[0m\u001b[0;34m=\u001b[0m \u001b[0mdf\u001b[0m\u001b[0;34m[\u001b[0m\u001b[0mdf\u001b[0m\u001b[0;34m]\u001b[0m\u001b[0;34m.\u001b[0m\u001b[0mastype\u001b[0m\u001b[0;34m(\u001b[0m\u001b[0;34m'int'\u001b[0m\u001b[0;34m)\u001b[0m\u001b[0;34m\u001b[0m\u001b[0;34m\u001b[0m\u001b[0m\n\u001b[0m",
                        "\u001b[0;32m~/anaconda3/envs/jlm_sector_covid_env/lib/python3.7/site-packages/pandas/core/frame.py\u001b[0m in \u001b[0;36m__getitem__\u001b[0;34m(self, key)\u001b[0m\n\u001b[1;32m   3009\u001b[0m         \u001b[0;31m# Do we have a (boolean) DataFrame?\u001b[0m\u001b[0;34m\u001b[0m\u001b[0;34m\u001b[0m\u001b[0;34m\u001b[0m\u001b[0m\n\u001b[1;32m   3010\u001b[0m         \u001b[0;32mif\u001b[0m \u001b[0misinstance\u001b[0m\u001b[0;34m(\u001b[0m\u001b[0mkey\u001b[0m\u001b[0;34m,\u001b[0m \u001b[0mDataFrame\u001b[0m\u001b[0;34m)\u001b[0m\u001b[0;34m:\u001b[0m\u001b[0;34m\u001b[0m\u001b[0;34m\u001b[0m\u001b[0m\n\u001b[0;32m-> 3011\u001b[0;31m             \u001b[0;32mreturn\u001b[0m \u001b[0mself\u001b[0m\u001b[0;34m.\u001b[0m\u001b[0mwhere\u001b[0m\u001b[0;34m(\u001b[0m\u001b[0mkey\u001b[0m\u001b[0;34m)\u001b[0m\u001b[0;34m\u001b[0m\u001b[0;34m\u001b[0m\u001b[0m\n\u001b[0m\u001b[1;32m   3012\u001b[0m \u001b[0;34m\u001b[0m\u001b[0m\n\u001b[1;32m   3013\u001b[0m         \u001b[0;31m# Do we have a (boolean) 1d indexer?\u001b[0m\u001b[0;34m\u001b[0m\u001b[0;34m\u001b[0m\u001b[0;34m\u001b[0m\u001b[0m\n",
                        "\u001b[0;32m~/anaconda3/envs/jlm_sector_covid_env/lib/python3.7/site-packages/pandas/core/generic.py\u001b[0m in \u001b[0;36mwhere\u001b[0;34m(self, cond, other, inplace, axis, level, errors, try_cast)\u001b[0m\n\u001b[1;32m   9285\u001b[0m         \u001b[0mother\u001b[0m \u001b[0;34m=\u001b[0m \u001b[0mcom\u001b[0m\u001b[0;34m.\u001b[0m\u001b[0mapply_if_callable\u001b[0m\u001b[0;34m(\u001b[0m\u001b[0mother\u001b[0m\u001b[0;34m,\u001b[0m \u001b[0mself\u001b[0m\u001b[0;34m)\u001b[0m\u001b[0;34m\u001b[0m\u001b[0;34m\u001b[0m\u001b[0m\n\u001b[1;32m   9286\u001b[0m         return self._where(\n\u001b[0;32m-> 9287\u001b[0;31m             \u001b[0mcond\u001b[0m\u001b[0;34m,\u001b[0m \u001b[0mother\u001b[0m\u001b[0;34m,\u001b[0m \u001b[0minplace\u001b[0m\u001b[0;34m,\u001b[0m \u001b[0maxis\u001b[0m\u001b[0;34m,\u001b[0m \u001b[0mlevel\u001b[0m\u001b[0;34m,\u001b[0m \u001b[0merrors\u001b[0m\u001b[0;34m=\u001b[0m\u001b[0merrors\u001b[0m\u001b[0;34m,\u001b[0m \u001b[0mtry_cast\u001b[0m\u001b[0;34m=\u001b[0m\u001b[0mtry_cast\u001b[0m\u001b[0;34m\u001b[0m\u001b[0;34m\u001b[0m\u001b[0m\n\u001b[0m\u001b[1;32m   9288\u001b[0m         )\n\u001b[1;32m   9289\u001b[0m \u001b[0;34m\u001b[0m\u001b[0m\n",
                        "\u001b[0;32m~/anaconda3/envs/jlm_sector_covid_env/lib/python3.7/site-packages/pandas/core/generic.py\u001b[0m in \u001b[0;36m_where\u001b[0;34m(self, cond, other, inplace, axis, level, errors, try_cast)\u001b[0m\n\u001b[1;32m   9041\u001b[0m                 \u001b[0;32mfor\u001b[0m \u001b[0mdt\u001b[0m \u001b[0;32min\u001b[0m \u001b[0mcond\u001b[0m\u001b[0;34m.\u001b[0m\u001b[0mdtypes\u001b[0m\u001b[0;34m:\u001b[0m\u001b[0;34m\u001b[0m\u001b[0;34m\u001b[0m\u001b[0m\n\u001b[1;32m   9042\u001b[0m                     \u001b[0;32mif\u001b[0m \u001b[0;32mnot\u001b[0m \u001b[0mis_bool_dtype\u001b[0m\u001b[0;34m(\u001b[0m\u001b[0mdt\u001b[0m\u001b[0;34m)\u001b[0m\u001b[0;34m:\u001b[0m\u001b[0;34m\u001b[0m\u001b[0;34m\u001b[0m\u001b[0m\n\u001b[0;32m-> 9043\u001b[0;31m                         \u001b[0;32mraise\u001b[0m \u001b[0mValueError\u001b[0m\u001b[0;34m(\u001b[0m\u001b[0mmsg\u001b[0m\u001b[0;34m.\u001b[0m\u001b[0mformat\u001b[0m\u001b[0;34m(\u001b[0m\u001b[0mdtype\u001b[0m\u001b[0;34m=\u001b[0m\u001b[0mdt\u001b[0m\u001b[0;34m)\u001b[0m\u001b[0;34m)\u001b[0m\u001b[0;34m\u001b[0m\u001b[0;34m\u001b[0m\u001b[0m\n\u001b[0m\u001b[1;32m   9044\u001b[0m         \u001b[0;32melse\u001b[0m\u001b[0;34m:\u001b[0m\u001b[0;34m\u001b[0m\u001b[0;34m\u001b[0m\u001b[0m\n\u001b[1;32m   9045\u001b[0m             \u001b[0;31m# GH#21947 we have an empty DataFrame/Series, could be object-dtype\u001b[0m\u001b[0;34m\u001b[0m\u001b[0;34m\u001b[0m\u001b[0;34m\u001b[0m\u001b[0m\n",
                        "\u001b[0;31mValueError\u001b[0m: Boolean array expected for the condition, not int64"
                    ]
                }
            ],
            "metadata": {}
        },
        {
            "cell_type": "code",
            "execution_count": null,
            "source": [
                "df.info()"
            ],
            "outputs": [
                {
                    "output_type": "stream",
                    "name": "stdout",
                    "text": [
                        "<class 'pandas.core.frame.DataFrame'>\n",
                        "RangeIndex: 58756 entries, 0 to 58755\n",
                        "Data columns (total 19 columns):\n",
                        " #   Column                               Non-Null Count  Dtype  \n",
                        "---  ------                               --------------  -----  \n",
                        " 0   Unnamed: 0                           58756 non-null  int64  \n",
                        " 1   town_code                            58756 non-null  int64  \n",
                        " 2   agas_code                            58359 non-null  float64\n",
                        " 3   town                                 58756 non-null  object \n",
                        " 4   date                                 58756 non-null  object \n",
                        " 5   accumulated_cases                    58756 non-null  object \n",
                        " 6   new_cases_on_date                    58756 non-null  bool   \n",
                        " 7   accumulated_recoveries               58756 non-null  object \n",
                        " 8   new_recoveries_on_date               58756 non-null  bool   \n",
                        " 9   accumulated_hospitalized             58756 non-null  object \n",
                        " 10  new_hospitalized_on_date             58756 non-null  bool   \n",
                        " 11  accumulated_deaths                   58756 non-null  object \n",
                        " 12  new_deaths_on_date                   58756 non-null  bool   \n",
                        " 13  accumulated_diagnostic_tests         58756 non-null  object \n",
                        " 14  new_diagnostic_tests_on_date         58756 non-null  bool   \n",
                        " 15  accumulated_vaccination_first_dose   58756 non-null  object \n",
                        " 16  new_vacc_first_dose_on_date          58756 non-null  bool   \n",
                        " 17  accumulated_vaccination_second_dose  58756 non-null  object \n",
                        " 18  new_vacc_second_dose_on_date         58756 non-null  bool   \n",
                        "dtypes: bool(7), float64(1), int64(2), object(9)\n",
                        "memory usage: 5.8+ MB\n"
                    ]
                }
            ],
            "metadata": {}
        }
    ],
    "metadata": {
        "orig_nbformat": 4,
        "language_info": {
            "name": "python",
            "version": "3.7.10",
            "mimetype": "text/x-python",
            "codemirror_mode": {
                "name": "ipython",
                "version": 3
            },
            "pygments_lexer": "ipython3",
            "nbconvert_exporter": "python",
            "file_extension": ".py"
        },
        "kernelspec": {
            "name": "python3",
            "display_name": "Python 3.7.10 64-bit ('jlm_sector_covid_env': conda)"
        },
        "interpreter": {
            "hash": "732d831ca6ad3a3429440d47adf51584154cea5996ade90fcd2c1041847a664f"
        }
    },
    "nbformat": 4,
    "nbformat_minor": 2
}