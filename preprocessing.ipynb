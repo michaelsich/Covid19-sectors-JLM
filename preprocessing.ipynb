{
    "cells": [
        {
            "cell_type": "code",
            "execution_count": 17,
            "source": [
                "import pandas as pd\n",
                "import numpy as np"
            ],
            "outputs": [],
            "metadata": {}
        },
        {
            "cell_type": "code",
            "execution_count": 18,
            "source": [
                "def fill_strange_vals(df: pd.DataFrame) -> pd.DataFrame:\n",
                "    df = df.replace('<15',value = 14)\n",
                "    df['agas_code'] = df['agas_code'].fillna('999.0')  # random statistical area\n",
                "    return df"
            ],
            "outputs": [],
            "metadata": {}
        },
        {
            "cell_type": "code",
            "execution_count": 19,
            "source": [
                "def cols_to_int(df: pd.DataFrame) -> pd.DataFrame:\n",
                "    columns = [\n",
                "        'agas_code',\n",
                "        'accumulated_cases',\n",
                "        'accumulated_recoveries',\n",
                "        'accumulated_deaths',\n",
                "        'accumulated_hospitalized',\n",
                "        'accumulated_vaccination_first_dose',\n",
                "        'accumulated_vaccination_second_dose',\n",
                "        'accumulated_diagnostic_tests'\n",
                "    ]\n",
                "    for h in columns:\n",
                "        try:\n",
                "            df[h]= df[h].astype('int')\n",
                "        except:\n",
                "            df[h]= df[h].astype('float')\n",
                "    return df"
            ],
            "outputs": [],
            "metadata": {}
        },
        {
            "cell_type": "code",
            "execution_count": 20,
            "source": [
                "def bin_to_int(df: pd.DataFrame):\n",
                "    return df.replace({False: 0, True: 1}, inplace=True)"
            ],
            "outputs": [],
            "metadata": {}
        },
        {
            "cell_type": "code",
            "execution_count": 21,
            "source": [
                "def drop_cols(df: pd.DataFrame):\n",
                "    columns = [\n",
                "        'town',\n",
                "        # 'new_cases_on_date',\n",
                "        # 'new_recoveries_on_date',\n",
                "        # 'new_hospitalized_on_date',\n",
                "        # 'new_deaths_on_date',\n",
                "        # 'new_diagnostic_tests_on_date',\n",
                "        'new_vacc_first_dose_on_date',\n",
                "        'new_vacc_second_dose_on_date',\n",
                "        'accumulated_vaccination_first_dose',\n",
                "        'accumulated_vaccination_second_dose'\n",
                "    ]\n",
                "    return df.drop(columns, axis=1)"
            ],
            "outputs": [],
            "metadata": {}
        },
        {
            "cell_type": "code",
            "execution_count": 22,
            "source": [
                "def calc_changes(df: pd.DataFrame):\n",
                "    df = df.sort_values(by=[\"agas_code\",\"date\"])\n",
                "    df = df.assign(new_cases = ( df['accumulated_cases'] - df['accumulated_recoveries'] - df['accumulated_deaths']) )\n",
                "    df[\"new_cases_percent\"] = df.groupby(\"agas_code\")[\"new_cases\"].pct_change()\n",
                "\n",
                "    df[\"new_deaths\"] = df.groupby(\"agas_code\")[\"accumulated_deaths\"].diff()\n",
                "    df[\"new_recoveries\"] = df.groupby(\"agas_code\")[\"accumulated_recoveries\"].diff()\n",
                "\n",
                "    # some na's might have been created\n",
                "    df[\"new_deaths\"] =df[\"new_deaths\"].fillna(0)\n",
                "    df[\"new_recoveries\"] =df[\"new_recoveries\"].fillna(0)\n",
                "    df[\"new_cases_percent\"] = df[\"new_cases_percent\"].fillna(0)\n",
                "    df = df.replace(np.inf, 100)\n",
                "    return df"
            ],
            "outputs": [],
            "metadata": {}
        },
        {
            "cell_type": "code",
            "execution_count": 23,
            "source": [
                "def preprocess(df: pd.DataFrame) -> pd.DataFrame:\n",
                "    df = fill_strange_vals(df)\n",
                "    df = cols_to_int(df)\n",
                "    bin_to_int(df)\n",
                "    df = calc_changes(df)\n",
                "    df = drop_cols(df)\n",
                "    return df"
            ],
            "outputs": [],
            "metadata": {}
        }
    ],
    "metadata": {
        "orig_nbformat": 4,
        "language_info": {
            "name": "python",
            "version": "3.7.10",
            "mimetype": "text/x-python",
            "codemirror_mode": {
                "name": "ipython",
                "version": 3
            },
            "pygments_lexer": "ipython3",
            "nbconvert_exporter": "python",
            "file_extension": ".py"
        },
        "kernelspec": {
            "name": "python3",
            "display_name": "Python 3.7.10 64-bit ('jlm_sector_covid_env': conda)"
        },
        "interpreter": {
            "hash": "732d831ca6ad3a3429440d47adf51584154cea5996ade90fcd2c1041847a664f"
        }
    },
    "nbformat": 4,
    "nbformat_minor": 2
}